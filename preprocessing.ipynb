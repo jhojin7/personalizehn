{
 "cells": [
  {
   "cell_type": "code",
   "execution_count": null,
   "metadata": {},
   "outputs": [],
   "source": [
    "%pip install requests beautifulsoup4\n",
    "import requests\n",
    "import pprint\n",
    "import json\n",
    "from datetime import date, datetime\n",
    "\n",
    "from bs4 import BeautifulSoup"
   ]
  },
  {
   "cell_type": "code",
   "execution_count": null,
   "metadata": {},
   "outputs": [],
   "source": [
    "URL = \"https://news.ycombinator.com/\"\n",
    "resp = requests.get(URL,\n",
    "                    # params={\"day\": datetime.today().date(), \"p\": 1})\n",
    "                    params={\"day\":\"2023-05-02\"})\n",
    "print(resp.json)\n",
    "soup = BeautifulSoup(resp.text, 'html.parser')\n",
    "rows = soup.find_all('tr', class_='athing')\n"
   ]
  },
  {
   "cell_type": "code",
   "execution_count": null,
   "metadata": {},
   "outputs": [],
   "source": [
    "import numpy as np\n",
    "import pandas as pd"
   ]
  },
  {
   "cell_type": "code",
   "execution_count": null,
   "metadata": {},
   "outputs": [],
   "source": [
    "def get_posts_for_date(datestring):\n",
    "    cols = \"id rank title url points comments\".split()\n",
    "    df = pd.DataFrame(columns=cols,)\n",
    "\n",
    "    URL = \"https://news.ycombinator.com/\"\n",
    "    resp = requests.get(URL,params={\"day\":datestring})\n",
    "    soup = BeautifulSoup(resp.text, 'html.parser')\n",
    "    rows = soup.find_all('tr', class_='athing')\n",
    "\n",
    "    for row in rows:\n",
    "        id = int(row['id'])\n",
    "        rank = int(row.find('span',class_=\"rank\").text[:-1])\n",
    "        title_element = row.find(\"span\", class_='titleline')\n",
    "        title = title_element.text if title_element else ''\n",
    "        url = title_element.a[\"href\"] if \"https\" in title_element.a[\"href\"] else ''\n",
    "        \n",
    "        next_row = row.find_next_sibling('tr')\n",
    "        subline = next_row.find(\"span\", class_=\"subline\")\n",
    "        if not subline:\n",
    "            continue\n",
    "        else:\n",
    "            subline = subline.text.split()\n",
    "        if \"points\" in subline:\n",
    "            points = int(subline[subline.index(\"points\")-1]) \n",
    "        else:\n",
    "            points = -999\n",
    "        if \"comments\" in subline:\n",
    "            comments = int(subline[subline.index(\"comments\")-1])\n",
    "        else:\n",
    "            points = -999\n",
    "\n",
    "        value=[id,rank,title,url,points,comments]\n",
    "        df.loc[len(df)] = value\n",
    "    return df\n",
    "    \n",
    "datestring=\"2023-06-01\"\n",
    "date_df = get_posts_for_date(datestring)\n",
    "date_df.to_csv(f\"posts-{datestring}.csv\")\n",
    "date_df"
   ]
  },
  {
   "cell_type": "code",
   "execution_count": null,
   "metadata": {},
   "outputs": [],
   "source": [
    "print(date_df.info())\n",
    "display(date_df.head(30))"
   ]
  },
  {
   "cell_type": "code",
   "execution_count": null,
   "metadata": {},
   "outputs": [],
   "source": [
    "aggr_df = pd.read_csv(\"data.csv\")\n",
    "aggr_df.loc[aggr_df.viewed.isna(),\"viewed\"] = False\n",
    "aggr_df.loc[aggr_df.liked.isna(),\"liked\"] = False\n",
    "aggr_df"
   ]
  },
  {
   "cell_type": "code",
   "execution_count": null,
   "metadata": {},
   "outputs": [],
   "source": [
    "%pip install scikit-learn\n"
   ]
  }
 ],
 "metadata": {
  "kernelspec": {
   "display_name": "Python 3",
   "language": "python",
   "name": "python3"
  },
  "language_info": {
   "codemirror_mode": {
    "name": "ipython",
    "version": 3
   },
   "file_extension": ".py",
   "mimetype": "text/x-python",
   "name": "python",
   "nbconvert_exporter": "python",
   "pygments_lexer": "ipython3",
   "version": "3.10.6"
  },
  "orig_nbformat": 4
 },
 "nbformat": 4,
 "nbformat_minor": 2
}
